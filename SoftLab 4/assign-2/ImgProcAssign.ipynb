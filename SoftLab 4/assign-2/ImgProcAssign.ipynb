{
 "cells": [
  {
   "cell_type": "code",
   "execution_count": 1,
   "id": "expressed-voluntary",
   "metadata": {},
   "outputs": [],
   "source": [
    "#Image Processing Assignment\n",
    "#BT18CSE041 - Srujan R\n",
    "#BT18CSE114 - Sagar Mishra"
   ]
  },
  {
   "cell_type": "code",
   "execution_count": null,
   "metadata": {},
   "outputs": [],
   "source": [
    "from keras.preprocessing.image import ImageDataGenerator,array_to_img,img_to_array,load_img\n",
    "import numpy as np\n",
    "\n",
    "datagen = ImageDataGenerator(rotation_range = 40,width_shift_range=0.2,height_shift_range=0.2,shear_range=0.2,xoom_range=0.2,horizontal_flip=True,fill_mode='nearest')\n",
    "\n",
    "for i in range(1,31):\n",
    "    path = 'datasets/cat/ca'\n",
    "    img = load_img(path + str(i) + '.jpeg')\n",
    "    x = img_to_array(img)\n",
    "    x = x.reshape((1,) + x.shape)\n",
    "\n",
    "    num = 0\n",
    "    for batch in datagen.flow(x,batch_size=1,save_to_dir=path,save_prefix='ca',save_format='jpeg'):\n",
    "        num += 1\n",
    "        if num == 10:\n",
    "            break\n",
    "\n",
    "for i in range(1,31):\n",
    "    path = 'datasets/horse/h'\n",
    "    img = load_img(path + str(i) + '.jpeg')\n",
    "    x = img_to_array(img)\n",
    "    x = x.reshape((1,) + x.shape)\n",
    "\n",
    "    num = 0\n",
    "    for batch in datagen.flow(x,batch_size=1,save_to_dir=path,save_prefix='ca',save_format='jpeg'):\n",
    "        num += 1\n",
    "        if num == 10:\n",
    "            break\n",
    "\n",
    "for i in range(1,31):\n",
    "    path = 'datasets/elephant/e'\n",
    "    img = load_img(path + str(i) + '.jpeg')\n",
    "    x = img_to_array(img)\n",
    "    x = x.reshape((1,) + x.shape)\n",
    "\n",
    "    num = 0\n",
    "    for batch in datagen.flow(x,batch_size=1,save_to_dir=path,save_prefix='ca',save_format='jpeg'):\n",
    "        num += 1\n",
    "        if num == 10:\n",
    "            break\n",
    "\n",
    "for i in range(1,31):\n",
    "    path = 'datasets/squirrel/s'\n",
    "    img = load_img(path + str(i) + '.jpeg')\n",
    "    x = img_to_array(img)\n",
    "    x = x.reshape((1,) + x.shape)\n",
    "\n",
    "    num = 0\n",
    "    for batch in datagen.flow(x,batch_size=1,save_to_dir=path,save_prefix='ca',save_format='jpeg'):\n",
    "        num += 1\n",
    "        if num == 10:\n",
    "            break"
   ]
  },
  {
   "cell_type": "code",
   "execution_count": null,
   "metadata": {},
   "outputs": [],
   "source": [
    "from keras.preprocessing.image import ImageDataGenerator\n",
    "\n",
    "train_datagen = ImageDataGenerator(rescale = 1./255,\n",
    "                                   shear_range = 0.2,\n",
    "                                   zoom_range = 0.2,\n",
    "                                   horizontal_flip = True)\n",
    "\n",
    "test_datagen = ImageDataGenerator(rescale = 1./255)\n",
    "\n",
    "training_set = train_datagen.flow_from_directory('/content/Alphabet Dataset/Train/',\n",
    "                                                 target_size = (224, 224),\n",
    "                                                 batch_size = 64,\n",
    "                                                 class_mode = 'categorical')\n",
    "\n",
    "test_set = test_datagen.flow_from_directory('/content/Alphabet Dataset/Test/',\n",
    "                                            target_size = (224, 224),\n",
    "                                            batch_size = 64,\n",
    "                                            class_mode = 'categorical')\n"
   ]
  }
 ],
 "metadata": {
  "kernelspec": {
   "name": "python3",
   "display_name": "Python 3.9.0 64-bit",
   "metadata": {
    "interpreter": {
     "hash": "63fd5069d213b44bf678585dea6b12cceca9941eaf7f819626cde1f2670de90d"
    }
   }
  },
  "language_info": {
   "codemirror_mode": {
    "name": "ipython",
    "version": 3
   },
   "file_extension": ".py",
   "mimetype": "text/x-python",
   "name": "python",
   "nbconvert_exporter": "python",
   "pygments_lexer": "ipython3",
   "version": "3.9.0-final"
  }
 },
 "nbformat": 4,
 "nbformat_minor": 5
}